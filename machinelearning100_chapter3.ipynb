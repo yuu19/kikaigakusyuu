{
  "nbformat": 4,
  "nbformat_minor": 0,
  "metadata": {
    "colab": {
      "name": "machinelearning100_chapter3.ipynb",
      "provenance": [],
      "authorship_tag": "ABX9TyMc0cCx9PH2QeEUAKb4CbWY",
      "include_colab_link": true
    },
    "kernelspec": {
      "name": "python3",
      "display_name": "Python 3"
    },
    "language_info": {
      "name": "python"
    }
  },
  "cells": [
    {
      "cell_type": "markdown",
      "metadata": {
        "id": "view-in-github",
        "colab_type": "text"
      },
      "source": [
        "<a href=\"https://colab.research.google.com/github/yuu19/machine-learning-100-/blob/master/machinelearning100_chapter3.ipynb\" target=\"_parent\"><img src=\"https://colab.research.google.com/assets/colab-badge.svg\" alt=\"Open In Colab\"/></a>"
      ]
    },
    {
      "cell_type": "code",
      "source": [
        "import numpy as np\n",
        "import matplotlib.pyplot as plt\n"
      ],
      "metadata": {
        "id": "EtsV7_30eaXd"
      },
      "execution_count": null,
      "outputs": []
    },
    {
      "cell_type": "code",
      "source": [
        ""
      ],
      "metadata": {
        "id": "sOFku-EoeaOy"
      },
      "execution_count": null,
      "outputs": []
    },
    {
      "cell_type": "code",
      "execution_count": null,
      "metadata": {
        "id": "56Hb9AQHeD3i"
      },
      "outputs": [],
      "source": [
        ""
      ]
    },
    {
      "cell_type": "code",
      "source": [
        ""
      ],
      "metadata": {
        "id": "Xud-mMDveUg9"
      },
      "execution_count": null,
      "outputs": []
    },
    {
      "cell_type": "code",
      "source": [
        ""
      ],
      "metadata": {
        "id": "G2UWBJlweUk5"
      },
      "execution_count": null,
      "outputs": []
    },
    {
      "cell_type": "code",
      "source": [
        ""
      ],
      "metadata": {
        "id": "sGp4NcF5eUny"
      },
      "execution_count": null,
      "outputs": []
    },
    {
      "cell_type": "code",
      "source": [
        ""
      ],
      "metadata": {
        "id": "8j5M8oC3eUtP"
      },
      "execution_count": null,
      "outputs": []
    },
    {
      "cell_type": "code",
      "source": [
        ""
      ],
      "metadata": {
        "id": "7J4fVK4HeUyd"
      },
      "execution_count": null,
      "outputs": []
    },
    {
      "cell_type": "code",
      "source": [
        ""
      ],
      "metadata": {
        "id": "d3MS7IaCeU26"
      },
      "execution_count": null,
      "outputs": []
    },
    {
      "cell_type": "code",
      "source": [
        "#ブートストラップ法\n",
        "#df: データフレーム\n",
        "#f:推定量\n",
        "#r: 生成回数 \n",
        "def bt(df, f, r):\n",
        "  m = df.shape[0]\n",
        "  org = f(df, np.arange(0, m, 1))\n",
        "  u = []\n",
        "  for j in range(r):\n",
        "    index = np.random.choice(m, m, replace=True)\n",
        "    u.append(f(df, index))\n",
        "  return {'original': org, 'bias': np.mean(u)-org, 'stderr':np.std(u)}\n",
        "  "
      ],
      "metadata": {
        "id": "adFzXcRmeU8m"
      },
      "execution_count": null,
      "outputs": []
    }
  ]
}