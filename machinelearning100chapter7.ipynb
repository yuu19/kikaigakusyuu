{
  "nbformat": 4,
  "nbformat_minor": 0,
  "metadata": {
    "colab": {
      "name": "machinelearning100chapter7.ipynb",
      "provenance": [],
      "authorship_tag": "ABX9TyOQYAvprk3LwkIuJVrqEWpc",
      "include_colab_link": true
    },
    "kernelspec": {
      "name": "python3",
      "display_name": "Python 3"
    },
    "language_info": {
      "name": "python"
    }
  },
  "cells": [
    {
      "cell_type": "markdown",
      "metadata": {
        "id": "view-in-github",
        "colab_type": "text"
      },
      "source": [
        "<a href=\"https://colab.research.google.com/github/yuu19/machine-learning-100-/blob/master/machinelearning100chapter7.ipynb\" target=\"_parent\"><img src=\"https://colab.research.google.com/assets/colab-badge.svg\" alt=\"Open In Colab\"/></a>"
      ]
    },
    {
      "cell_type": "code",
      "execution_count": null,
      "metadata": {
        "id": "b-fOzZmTVcnF"
      },
      "outputs": [],
      "source": [
        "#緑本の実装\n",
        "import matplotlib as plt\n",
        "import numpy as np\n",
        "\n",
        "def gini(p):\n",
        "  return p*(1-p) + (1-p)*(1-(1-p))\n",
        "\n",
        "def entropy(p):\n",
        "  return -p*np.log2(p) - (1-p)*np.log2((1-p))\n",
        "\n",
        "def error(p):\n",
        "  return 1 - np.max([p, 1-p])\n",
        "\n",
        "x = np.arange(0.0, 1.0, 0.01)\n"
      ]
    }
  ]
}