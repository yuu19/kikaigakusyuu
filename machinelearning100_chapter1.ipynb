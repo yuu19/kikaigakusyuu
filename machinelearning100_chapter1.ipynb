{
  "nbformat": 4,
  "nbformat_minor": 0,
  "metadata": {
    "colab": {
      "name": "machinelearning100_chapter1.ipynb",
      "provenance": [],
      "authorship_tag": "ABX9TyMH5J/wpuGTGcSkraUa2SQi",
      "include_colab_link": true
    },
    "kernelspec": {
      "name": "python3",
      "display_name": "Python 3"
    },
    "language_info": {
      "name": "python"
    }
  },
  "cells": [
    {
      "cell_type": "markdown",
      "metadata": {
        "id": "view-in-github",
        "colab_type": "text"
      },
      "source": [
        "<a href=\"https://colab.research.google.com/github/yuu19/machine-learning-100-/blob/master/machinelearning100_chapter1.ipynb\" target=\"_parent\"><img src=\"https://colab.research.google.com/assets/colab-badge.svg\" alt=\"Open In Colab\"/></a>"
      ]
    },
    {
      "cell_type": "code",
      "execution_count": null,
      "metadata": {
        "colab": {
          "base_uri": "https://localhost:8080/"
        },
        "id": "VNTdHoxrIY4y",
        "outputId": "855bd02d-11b0-4a57-c490-7d45614ea5fe"
      },
      "outputs": [
        {
          "output_type": "stream",
          "name": "stdout",
          "text": [
            "1.9546441626693238 3.452817715951241e-16\n",
            "1.9546441626693238 1.9546441626693238\n"
          ]
        }
      ],
      "source": [
        "import numpy as np\n",
        "#LSMにより切片と傾きを求める\n",
        "def min_sq(x, y):\n",
        "  x_bar, y_bar = np.mean(x), np.mean(y)\n",
        "  beta_1 = np.dot(x-x_bar, y-y_bar)/np.linalg.norm(x-x_bar)**2\n",
        "  beta_0 = y_bar - beta_1*x_bar\n",
        "  return [beta_1, beta_0]\n",
        "\n",
        "N = 100\n",
        "a = np.random.normal(loc=2, scale=1, size=N) #平均2,標準偏差1の疑似乱数をN個発生させる。\n",
        "b = np.random.randn(1)\n",
        "x = np.random.randn(N)\n",
        "y = a*x+b+np.random.randn(N)\n",
        "a1, b1 = min_sq(x, y)\n",
        "xx = x - np.mean(x); yy = y - np.mean(y)\n",
        "\n",
        "a2, b2 = min_sq(xx, yy)\n",
        "#ほぼほぼ切片が0になっていることに注意\n",
        "print(a2, b2)\n",
        "#傾きは中心化後も不変\n",
        "print(a1, a2)\n"
      ]
    },
    {
      "cell_type": "code",
      "source": [
        "import matplotlib.pyplot as plt\n",
        "x_seq = np.arange(-5, 5, 0.1)\n",
        "y_pre = x_seq*a1+b1\n",
        "yy_pre = x_seq*a2+b2\n",
        "\n",
        "plt.scatter(x, y, c=\"black\")\n",
        "#y=0 水平線\n",
        "plt.axhline(y=0, c=\"black\", linewidth=0.5)\n",
        "#x=0 垂直線\n",
        "plt.axvline(x=0, c=\"black\", linewidth=0.5)\n",
        "plt.plot(x_seq, y_pre, c=\"blue\", label=\"before\")\n",
        "plt.plot(x_seq, yy_pre, c=\"orange\", label=\"after\")\n",
        "plt.legend(loc=\"upper_left\")"
      ],
      "metadata": {
        "colab": {
          "base_uri": "https://localhost:8080/",
          "height": 533
        },
        "id": "8B0lFKocL81r",
        "outputId": "892f99ee-12d9-4563-844c-61b46cb5b0a4"
      },
      "execution_count": null,
      "outputs": [
        {
          "output_type": "stream",
          "name": "stderr",
          "text": [
            "/usr/local/lib/python3.7/dist-packages/ipykernel_launcher.py:13: MatplotlibDeprecationWarning: Unrecognized location 'upper_left'. Falling back on 'best'; valid locations are\n",
            "\tbest\n",
            "\tupper right\n",
            "\tupper left\n",
            "\tlower left\n",
            "\tlower right\n",
            "\tright\n",
            "\tcenter left\n",
            "\tcenter right\n",
            "\tlower center\n",
            "\tupper center\n",
            "\tcenter\n",
            "This will raise an exception in 3.3.\n",
            "  del sys.path[0]\n"
          ]
        },
        {
          "output_type": "execute_result",
          "data": {
            "text/plain": [
              "<matplotlib.legend.Legend at 0x7f6fd8084f90>"
            ]
          },
          "metadata": {},
          "execution_count": 4
        },
        {
          "output_type": "display_data",
          "data": {
            "image/png": "[encoded data removed]",
            "text/plain": [
              "<Figure size 432x288 with 1 Axes>"
            ]
          },
          "metadata": {
            "needs_background": "light"
          }
        }
      ]
    },
    {
      "cell_type": "code",
      "source": [
        "n = 100; p = 2\n",
        "beta = np.array([1, 2, 3])\n",
        "x = np.random.randn(n, 2)\n",
        "#print(x)\n",
        "y = beta[0]+beta[1]*x[:, 0] + beta[2]*x[:, 1] + np.random.randn(n)\n",
        "print(y)\n",
        "X = np.insert(x, 0, 1, axis=1)\n",
        "beta_est = np.linalg.inv(X.T@X)@X.T@y\n",
        "print(beta_est)\n"
      ],
      "metadata": {
        "colab": {
          "base_uri": "https://localhost:8080/"
        },
        "id": "x6N-oWdOesV_",
        "outputId": "a4ce1718-5564-4f5d-a0bd-d00eba0792c0"
      },
      "execution_count": null,
      "outputs": [
        {
          "output_type": "stream",
          "name": "stdout",
          "text": [
            "[ 2.38087109  4.45019263 -6.6530402   4.99890617  4.30178464  2.99327808\n",
            " -2.8471809   5.22016049  4.06767776  2.84072843  5.07459788  4.61389217\n",
            "  4.23559722 -0.24779337 -2.40924907  3.67135808  3.09860221  2.35279313\n",
            " -2.03100128  3.86053919 -4.02248339  3.38869426 -2.87539587  0.08310391\n",
            " -1.43557709  0.39024942 -1.43571756  9.16211232 -4.56710559  5.46936708\n",
            " -0.75530008  3.11519226 -5.1175241   3.33558875 -0.88691437 -3.41020344\n",
            " -5.71959875  1.15496864  1.25015596 -3.13606639 -0.10300776  1.86400141\n",
            " -5.06448863 -2.94169185  8.18594194  2.05078595  7.03276824  4.25312828\n",
            "  1.68283659 -1.14172817  1.96021539 -4.08864364 -1.52200428 -1.1153463\n",
            "  4.71909386  2.62916779 -3.08305857 -0.21625665 -0.26610381 -1.59570814\n",
            "  0.14294259 -0.57902724  4.09232666  0.17455083  0.01916994  7.4117288\n",
            "  8.96533753 -0.18591025 10.09713405  2.36553116  3.60491118  0.74148118\n",
            " -0.8766529   6.8379479  -1.67994973 -2.83382531  4.97620933  4.89931958\n",
            "  0.01725315 -2.49611656 -5.00564783  6.38726386 -4.30755802  0.81981817\n",
            "  0.48283909  1.99933294  3.60195989  7.04092291  2.40558429  0.85688813\n",
            "  3.91675783 -1.552367    1.49481729 -0.400027    4.45024604  5.6115112\n",
            " -5.54941954 -2.20475653 -1.86102244  1.49772772]\n",
            "[1.14657058 1.85740254 3.04970818]\n"
          ]
        }
      ]
    },
    {
      "cell_type": "code",
      "source": [
        "\n",
        "from scipy.stats import norm, chi2, t\n",
        "\n",
        "x = np.arange(0, 20, 0.1)\n",
        "for i in range(1, 11):\n",
        "  plt.plot(x, chi2.pdf(x, df=i), label='{}'.format(i))\n",
        "\n",
        "plt.legend(loc='upper right')"
      ],
      "metadata": {
        "colab": {
          "base_uri": "https://localhost:8080/",
          "height": 283
        },
        "id": "Bt6rGQYvd2a7",
        "outputId": "5b451f34-dff4-4f2e-d3af-88fde388895f"
      },
      "execution_count": null,
      "outputs": [
        {
          "output_type": "execute_result",
          "data": {
            "text/plain": [
              "<matplotlib.legend.Legend at 0x7f6fd52b9cd0>"
            ]
          },
          "metadata": {},
          "execution_count": 9
        },
        {
          "output_type": "display_data",
          "data": {
            "image/png": "[encoded data removed]",
            "text/plain": [
              "<Figure size 432x288 with 1 Axes>"
            ]
          },
          "metadata": {
            "needs_background": "light"
          }
        }
      ]
    },
    {
      "cell_type": "code",
      "source": [
        "x = np.arange(-10, 10, 0.1)\n",
        "plt.plot(x, norm.pdf(x, 0, 1), label=\"normal distribution\", c=\"black\", linewidth=1)\n",
        "for i in range(1, 11):\n",
        "  plt.plot(x, t.pdf(x, i), label='{}'.format(i), linewidth=0.8)\n",
        "\n",
        "plt.legend(loc=\"upper right\")\n",
        "plt.title(\"how t distribution changes\")"
      ],
      "metadata": {
        "colab": {
          "base_uri": "https://localhost:8080/",
          "height": 299
        },
        "id": "_X8t2XGngqD4",
        "outputId": "590ad163-a913-4eed-c3a0-28ed84a13fb7"
      },
      "execution_count": null,
      "outputs": [
        {
          "output_type": "execute_result",
          "data": {
            "text/plain": [
              "Text(0.5, 1.0, 'how t distribution changes')"
            ]
          },
          "metadata": {},
          "execution_count": 13
        },
        {
          "output_type": "display_data",
          "data": {
            "image/png": "[encoded data removed]",
            "text/plain": [
              "<Figure size 432x288 with 1 Axes>"
            ]
          },
          "metadata": {
            "needs_background": "light"
          }
        }
      ]
    },
    {
      "cell_type": "code",
      "source": [
        "N = 100; p = 1\n",
        "\n",
        "iter_num = 100\n",
        "\n",
        "for i in range(iter_num):\n",
        "  x = np.random.randn(N) + 2\n",
        "  e = np.random.randn(N)\n",
        "  y = x + 1 + e\n",
        "  b_1, b_0 = min_sq(x, y)\n",
        "  plt.scatter(b_0, b_1)\n",
        "\n",
        "plt.axhline(y=1.0, c=\"black\", linewidth=0.5)\n",
        "plt.axvline(x=1.0, c=\"black\", linewidth=0.5)\n",
        "plt.xlabel('beta_0')\n",
        "plt.ylabel('beta_1')"
      ],
      "metadata": {
        "colab": {
          "base_uri": "https://localhost:8080/",
          "height": 301
        },
        "id": "BQ3-xzO9iwsv",
        "outputId": "64cf4728-81ba-44c6-b3d5-e7fa6ff19c75"
      },
      "execution_count": null,
      "outputs": [
        {
          "output_type": "execute_result",
          "data": {
            "text/plain": [
              "Text(0, 0.5, 'beta_1')"
            ]
          },
          "metadata": {},
          "execution_count": 17
        },
        {
          "output_type": "display_data",
          "data": {
            "image/png": "[encoded data removed]",
            "text/plain": [
              "<Figure size 432x288 with 1 Axes>"
            ]
          },
          "metadata": {
            "needs_background": "light"
          }
        }
      ]
    },
    {
      "cell_type": "code",
      "source": [
        "\n",
        "#単回帰(p=1)の場合(例23を参照)\n",
        "N = 100\n",
        "x = np.random.rand(N); y = np.random.rand(N)\n",
        "beta_1, beta_0 = min_sq(x, y)\n",
        "RSS = np.linalg.norm(y-beta_0-beta_1*x)\n",
        "RSE = np.sqrt(RSS/(N-2))\n",
        "B_0 = (x.T@x/N)/np.linalg.norm(x-np.mean(x))**2\n",
        "B_1 = 1/np.linalg.norm(x-np.mean(x))**2\n",
        "se_0 = RSE*np.sqrt(B_0)\n",
        "se_1 = RSE*np.sqrt(B_1)\n",
        "t_0 = beta_0 / se_0 \n",
        "t_1 = beta_1 / se_1\n",
        "#p値を求める\n",
        "p_0 = 2*(1-t.cdf(np.abs(t_0), N-2))\n",
        "p_1 = 2*(1-t.cdf(np.abs(t_1), N-2))\n"
      ],
      "metadata": {
        "id": "FTxp0EH5xN5U"
      },
      "execution_count": null,
      "outputs": []
    },
    {
      "cell_type": "code",
      "source": [
        "from sklearn import linear_model\n",
        "reg = linear_model.LinearRegression()\n",
        "#ベクトルxとyをN*1のベクトルに変形\n",
        "x = x.reshape(-1, 1)\n",
        "y = y.reshape(-1, 1)\n",
        "reg.fit(x, y)\n",
        "reg.coef_, reg.intercept_ #回帰係数と切片"
      ],
      "metadata": {
        "colab": {
          "base_uri": "https://localhost:8080/"
        },
        "id": "Mh4M6Mzv1Xns",
        "outputId": "0063d1a7-a908-4871-f4b6-b1089af4bc03"
      },
      "execution_count": null,
      "outputs": [
        {
          "output_type": "execute_result",
          "data": {
            "text/plain": [
              "(array([[-0.1339111]]), array([0.58017617]))"
            ]
          },
          "metadata": {},
          "execution_count": 25
        }
      ]
    },
    {
      "cell_type": "code",
      "source": [
        "import statsmodels.api as sm\n",
        "X = np.insert(x, 0, 1, axis=1)\n",
        "model = sm.OLS(y, X)\n",
        "res = model.fit()\n",
        "print(res.summary())"
      ],
      "metadata": {
        "colab": {
          "base_uri": "https://localhost:8080/"
        },
        "id": "G83LNQKS31yU",
        "outputId": "7a7b29ca-1fcf-423a-edac-10c1c28beaea"
      },
      "execution_count": null,
      "outputs": [
        {
          "output_type": "stream",
          "name": "stdout",
          "text": [
            "                            OLS Regression Results                            \n",
            "==============================================================================\n",
            "Dep. Variable:                      y   R-squared:                       0.021\n",
            "Model:                            OLS   Adj. R-squared:                  0.011\n",
            "Method:                 Least Squares   F-statistic:                     2.067\n",
            "Date:                Sun, 20 Feb 2022   Prob (F-statistic):              0.154\n",
            "Time:                        11:25:07   Log-Likelihood:                -14.609\n",
            "No. Observations:                 100   AIC:                             33.22\n",
            "Df Residuals:                      98   BIC:                             38.43\n",
            "Df Model:                           1                                         \n",
            "Covariance Type:            nonrobust                                         \n",
            "==============================================================================\n",
            "                 coef    std err          t      P>|t|      [0.025      0.975]\n",
            "------------------------------------------------------------------------------\n",
            "const          0.5802      0.058     10.037      0.000       0.465       0.695\n",
            "x1            -0.1339      0.093     -1.438      0.154      -0.319       0.051\n",
            "==============================================================================\n",
            "Omnibus:                       37.292   Durbin-Watson:                   1.795\n",
            "Prob(Omnibus):                  0.000   Jarque-Bera (JB):                6.305\n",
            "Skew:                           0.072   Prob(JB):                       0.0428\n",
            "Kurtosis:                       1.778   Cond. No.                         4.33\n",
            "==============================================================================\n",
            "\n",
            "Warnings:\n",
            "[1] Standard Errors assume that the covariance matrix of the errors is correctly specified.\n"
          ]
        }
      ]
    },
    {
      "cell_type": "code",
      "source": [
        "#帰無仮説の下でデータを発生させる\n",
        "\n",
        "N = 100; r = 1000\n",
        "T = []\n",
        "\n",
        "for i in range(r):\n",
        "  x = np.random.randn(N); y = np.random.randn(N)\n",
        "  beta_1, beta_0 = min_sq(x, y)\n",
        "  pre_y = beta_0 + beta_1*x #yの推定値\n",
        "  RSS = np.linalg.norm(y-beta_0-beta_1*x)\n",
        "  RSE = np.sqrt(RSS/(N-2))\n",
        "  B_0 = (x.T@x/N)/np.linalg.norm(x-np.mean(x))**2\n",
        "  B_1 = 1/np.linalg.norm(x-np.mean(x))**2\n",
        "  se_1 = RSE*np.sqrt(B_1)\n",
        "  T.append(beta_1/se_1)\n",
        "\n",
        "plt.hist(T, bins=20, range=(-3, 3), density=True)\n",
        "x = np.linspace(-4, 4, 400)\n",
        "plt.plot(x, t.pdf(x, df=N-1-1))\n",
        "plt.plot(\"H_0\")\n",
        "plt.xlabel('value of t')\n",
        "plt.ylabel('density function')"
      ],
      "metadata": {
        "colab": {
          "base_uri": "https://localhost:8080/",
          "height": 297
        },
        "id": "2XIqawWG5GPM",
        "outputId": "fafd3bb3-f885-4dc6-aa74-7a5fafb97d15"
      },
      "execution_count": null,
      "outputs": [
        {
          "output_type": "execute_result",
          "data": {
            "text/plain": [
              "Text(0, 0.5, 'density function')"
            ]
          },
          "metadata": {},
          "execution_count": 34
        },
        {
          "output_type": "display_data",
          "data": {
            "image/png": "[encoded data removed]",
            "text/plain": [
              "<Figure size 432x288 with 1 Axes>"
            ]
          },
          "metadata": {
            "needs_background": "light"
          }
        }
      ]
    },
    {
      "cell_type": "code",
      "source": [
        "#決定関数を求める関数\n",
        "\n",
        "def R2(x, y):\n",
        "  n = x.shape[0]\n",
        "  xx = np.insert(x, 0, 1, axis=1)\n",
        "  beta = np.linalg.inv(xx.T@xx)@xx.T@y #係数の推定値\n",
        "  y_hat = xx@beta #yの推定値\n",
        "  y_bar = np.mean(y)\n",
        "  RSS = np.linalg.norm(y-y_hat)**2\n",
        "  TSS = np.linalg.norm(y-y_bar)**2\n",
        "  return 1 - RSS/TSS\n",
        "\n",
        "N = 100; m = 2\n",
        "x = np.random.randn(N, m)\n",
        "y = np.random.randn(N)\n",
        "R2(x, y)"
      ],
      "metadata": {
        "colab": {
          "base_uri": "https://localhost:8080/"
        },
        "id": "1b1E9RkL-rjK",
        "outputId": "5af9258a-1803-4ddb-d2a1-864517e9d739"
      },
      "execution_count": null,
      "outputs": [
        {
          "output_type": "execute_result",
          "data": {
            "text/plain": [
              "0.007714995686496695"
            ]
          },
          "metadata": {},
          "execution_count": 53
        }
      ]
    },
    {
      "cell_type": "code",
      "source": [
        "#1変量の場合、決定係数は相関係数の2乗となる\n",
        "\n",
        "x = np.random.randn(N, 1)\n",
        "y = np.random.randn(N)\n",
        "R2(x, y)\n",
        "print(R2(x, y))\n",
        "xx = x.reshape(N)\n",
        "np.corrcoef(xx, y)[0,1]**2\n",
        "\n"
      ],
      "metadata": {
        "colab": {
          "base_uri": "https://localhost:8080/"
        },
        "id": "iBjh8Fg9BnVO",
        "outputId": "929b140e-ed4b-4388-efae-dfc1736bbb70"
      },
      "execution_count": null,
      "outputs": [
        {
          "output_type": "stream",
          "name": "stdout",
          "text": [
            "0.003211683729892778\n"
          ]
        },
        {
          "output_type": "execute_result",
          "data": {
            "text/plain": [
              "0.0032116837298926115"
            ]
          },
          "metadata": {},
          "execution_count": 54
        }
      ]
    },
    {
      "cell_type": "code",
      "source": [
        "#VIFの計算(定義についてはhttps://ja.wikipedia.org/wiki/%E5%88%86%E6%95%A3%E6%8B%A1%E5%A4%A7%E4%BF%82%E6%95%B0を参照)\n",
        "from sklearn.datasets import load_boston\n",
        "boston = load_boston()\n",
        "x = boston.data\n",
        "\n",
        "\n",
        "def VIF(x):\n",
        "  p = x.shape[1]\n",
        "  values = []\n",
        "  for j in range(p):\n",
        "    S = list(set(range(p))-{j})\n",
        "    values.append(1/(1-R2(x[:,S], x[:, j])))\n",
        "  return values\n",
        "VIF(x)"
      ],
      "metadata": {
        "colab": {
          "base_uri": "https://localhost:8080/"
        },
        "id": "A1w297v4DX0-",
        "outputId": "4843b4ca-07d9-4939-d787-d7dd9dc0f768"
      },
      "execution_count": null,
      "outputs": [
        {
          "output_type": "stream",
          "name": "stderr",
          "text": [
            "/usr/local/lib/python3.7/dist-packages/sklearn/utils/deprecation.py:87: FutureWarning: Function load_boston is deprecated; `load_boston` is deprecated in 1.0 and will be removed in 1.2.\n",
            "\n",
            "    The Boston housing prices dataset has an ethical problem. You can refer to\n",
            "    the documentation of this function for further details.\n",
            "\n",
            "    The scikit-learn maintainers therefore strongly discourage the use of this\n",
            "    dataset unless the purpose of the code is to study and educate about\n",
            "    ethical issues in data science and machine learning.\n",
            "\n",
            "    In this special case, you can fetch the dataset from the original\n",
            "    source::\n",
            "\n",
            "        import pandas as pd\n",
            "        import numpy as np\n",
            "\n",
            "\n",
            "        data_url = \"http://lib.stat.cmu.edu/datasets/boston\"\n",
            "        raw_df = pd.read_csv(data_url, sep=\"\\s+\", skiprows=22, header=None)\n",
            "        data = np.hstack([raw_df.values[::2, :], raw_df.values[1::2, :2]])\n",
            "        target = raw_df.values[1::2, 2]\n",
            "\n",
            "    Alternative datasets include the California housing dataset (i.e.\n",
            "    :func:`~sklearn.datasets.fetch_california_housing`) and the Ames housing\n",
            "    dataset. You can load the datasets as follows::\n",
            "\n",
            "        from sklearn.datasets import fetch_california_housing\n",
            "        housing = fetch_california_housing()\n",
            "\n",
            "    for the California housing dataset and::\n",
            "\n",
            "        from sklearn.datasets import fetch_openml\n",
            "        housing = fetch_openml(name=\"house_prices\", as_frame=True)\n",
            "\n",
            "    for the Ames housing dataset.\n",
            "    \n",
            "  warnings.warn(msg, category=FutureWarning)\n"
          ]
        },
        {
          "output_type": "execute_result",
          "data": {
            "text/plain": [
              "[1.792191547433241,\n",
              " 2.29875817874944,\n",
              " 3.9915964183460297,\n",
              " 1.073995327553789,\n",
              " 4.393719847577495,\n",
              " 1.9337444357832565,\n",
              " 3.1008255128153372,\n",
              " 3.9559449063727263,\n",
              " 7.484496335274466,\n",
              " 9.00855394759707,\n",
              " 1.7990840492488995,\n",
              " 1.3485210764063762,\n",
              " 2.9414910780919357]"
            ]
          },
          "metadata": {},
          "execution_count": 60
        }
      ]
    }
  ]
}